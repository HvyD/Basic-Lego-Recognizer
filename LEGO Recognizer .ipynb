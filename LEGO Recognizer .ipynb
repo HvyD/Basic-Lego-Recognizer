{
 "cells": [
  {
   "cell_type": "markdown",
   "metadata": {},
   "source": [
    "# Basic Lego Recognizer"
   ]
  },
  {
   "cell_type": "code",
   "execution_count": null,
   "metadata": {},
   "outputs": [],
   "source": [
    "import pandas as pd\n",
    "import argparse\n",
    "import imutils\n",
    "from imutils import paths\n",
    "import numpy as np\n",
    "import os\n",
    "\n",
    "import cv2\n",
    "\n",
    "from sklearn.ensemble import RandomForestClassifier\n",
    "from sklearn.neighbors import KNeighborsClassifier\n",
    "from sklearn.cross_validation import train_test_split\n",
    "from sklearn.model_selection import train_test_split\n",
    "from sklearn.metrics import accuracy_score\n",
    "\n",
    "\n",
    "import matplotlib.image as mpimg\n",
    "import matplotlib.pyplot as plt"
   ]
  },
  {
   "cell_type": "markdown",
   "metadata": {},
   "source": [
    "### Dataset import and preparation"
   ]
  },
  {
   "cell_type": "code",
   "execution_count": null,
   "metadata": {},
   "outputs": [],
   "source": [
    "label_df = pd.read_csv('legos.csv')\n",
    "df = pd.DataFrame([])\n",
    "\n",
    "\n",
    "for x in range(len(label_df.index)):\n",
    "    files = label_df.iloc[x, :]\n",
    "    img = mpimg.imread(str(files.values[1]))\n",
    "    img = cv2.resize(img, (32,32))\n",
    "    pixels = np.array(img.flatten())\n",
    "    number = pd.DataFrame(pixels).stack().to_frame().T\n",
    "    number.columns = number.columns.droplevel(0)\n",
    "    df = df.append(number, ignore_index=True)\n",
    "\n",
    "df = label_df.join(df)\n",
    "\n",
    "\n",
    "\n",
    "df"
   ]
  },
  {
   "cell_type": "code",
   "execution_count": null,
   "metadata": {},
   "outputs": [],
   "source": [
    "x = df.iloc[:, 3:-1]\n",
    "y = df['type']"
   ]
  },
  {
   "cell_type": "code",
   "execution_count": null,
   "metadata": {},
   "outputs": [],
   "source": [
    "x_train, x_test, y_train, y_test = train_test_split(x, y, test_size=0.3, random_state=42)"
   ]
  },
  {
   "cell_type": "markdown",
   "metadata": {},
   "source": [
    "### Model Training"
   ]
  },
  {
   "cell_type": "code",
   "execution_count": null,
   "metadata": {},
   "outputs": [],
   "source": [
    "RFclf= RandomForestClassifier(n_estimators = 19, bootstrap = True, random_state=42)\n",
    "\n",
    "RFclf.fit(x_train, y_train)"
   ]
  },
  {
   "cell_type": "code",
   "execution_count": null,
   "metadata": {},
   "outputs": [],
   "source": [
    "y_actual = np.array(y_test)\n",
    "y_df = pd.DataFrame(y_test)\n",
    "\n",
    "y_predict_rf = my_RandomForest.predict(x_test)\n",
    "\n",
    "score_rf = accuracy_score(y_test, y_predict_rf)\n",
    "  \n",
    "print('Accuracy Score: ' + str(score_rf))\n",
    "\n",
    "print('\\nActual:')\n",
    "print(y_actual)\n",
    "\n",
    "print('\\nPrediction:')\n",
    "print(y_predict_rf)"
   ]
  },
  {
   "cell_type": "code",
   "execution_count": null,
   "metadata": {},
   "outputs": [],
   "source": [
    "knn = KNeighborsClassifier(n_neighbors= 10)\n",
    "knn.fit(x_train,y_train)"
   ]
  },
  {
   "cell_type": "code",
   "execution_count": null,
   "metadata": {},
   "outputs": [],
   "source": [
    "pred_knn = knn.predict(x_test)\n",
    "print('Accuracy score using KNN = 15: ' + str(accuracy_score(y_test, pred_knn)))"
   ]
  }
 ],
 "metadata": {
  "kernelspec": {
   "display_name": "Python 3",
   "language": "python",
   "name": "python3"
  },
  "language_info": {
   "codemirror_mode": {
    "name": "ipython",
    "version": 3
   },
   "file_extension": ".py",
   "mimetype": "text/x-python",
   "name": "python",
   "nbconvert_exporter": "python",
   "pygments_lexer": "ipython3",
   "version": "3.6.5"
  }
 },
 "nbformat": 4,
 "nbformat_minor": 2
}
